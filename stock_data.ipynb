{
 "cells": [
  {
   "cell_type": "code",
   "execution_count": 2,
   "id": "9b2ed627",
   "metadata": {},
   "outputs": [],
   "source": [
    "import pandas as pd\n",
    "import yfinance as yf\n",
    "\n",
    "\n"
   ]
  },
  {
   "cell_type": "code",
   "execution_count": 9,
   "id": "35274dbc",
   "metadata": {},
   "outputs": [],
   "source": [
    "# symbols = 'JPM MS GS BAC WFC C TF'\n",
    "# error: JPM MS GS BAC WFC C TF: No timezone found, symbol may be delisted\n",
    "jpmorgan = 'JPM'\n",
    "morganstanley = 'MS'\n",
    "goldmansachs = 'GS'\n",
    "bofA = 'BAC'\n",
    "wellsfargo = 'WFC'\n",
    "citigroup = 'C'\n",
    "tdbank = 'TD'\n",
    "#tickers = [i for i in banks_list]\n"
   ]
  },
  {
   "cell_type": "code",
   "execution_count": 10,
   "id": "e1c308c1",
   "metadata": {},
   "outputs": [],
   "source": [
    "# Ticker objects\n",
    "ticker = yf.Ticker(jpmorgan)\n",
    "ticker_morganstanley = yf.Ticker(morganstanley)\n",
    "ticker_goldmansachs = yf.Ticker(goldmansachs)\n",
    "ticker_bofA = yf.Ticker(bofA)\n",
    "ticker_wellsfargo = yf.Ticker(wellsfargo)\n",
    "ticker_citigroup = yf.Ticker(citigroup)\n",
    "ticker_tdbank = yf.Ticker(tdbank)"
   ]
  },
  {
   "cell_type": "code",
   "execution_count": 8,
   "id": "6a229f88",
   "metadata": {},
   "outputs": [
    {
     "name": "stderr",
     "output_type": "stream",
     "text": [
      "JPM MS GS BAC WFC C TF: No timezone found, symbol may be delisted\n"
     ]
    }
   ],
   "source": [
    "#df = tickers.history(interval = '1d',start = '2020-03-01',end = '2020-12-31', actions = False, rounding = True)"
   ]
  },
  {
   "cell_type": "code",
   "execution_count": 11,
   "id": "e5e918fa",
   "metadata": {},
   "outputs": [],
   "source": [
    "#start = dt.datetime(2020, 3, 1)\n",
    "#end = dt.datetime(2020, 12, 11)\n",
    "\n",
    "df_jpmorgan = ticker.history(start = '2020-03-01',end = '2020-12-31', actions = False, rounding = True)\n",
    "df_morganstanley = ticker.history(start = '2020-03-01',end = '2020-12-31', actions = False, rounding = True)\n",
    "df_goldmansachs = ticker.history(start = '2020-03-01',end = '2020-12-31', actions = False, rounding = True)\n",
    "df_bofA = ticker.history(start = '2020-03-01',end = '2020-12-31', actions = False, rounding = True)\n",
    "df_wellsfargo = ticker.history(start = '2020-03-01',end = '2020-12-31', actions = False, rounding = True)\n",
    "df_citigroup = ticker.history(start = '2020-03-01',end = '2020-12-31', actions = False, rounding = True)\n",
    "df_tdbank = ticker.history(start = '2020-03-01',end = '2020-12-31', actions = False, rounding = True)\n"
   ]
  },
  {
   "cell_type": "code",
   "execution_count": 13,
   "id": "24a51c43",
   "metadata": {},
   "outputs": [],
   "source": [
    "df_jpmorgan.to_csv(r\"/Users/amos/Documents/DS4A/C1DataEngineering/jpmorgan_stockdata.csv\",index=False,header=True)\n",
    "df_morganstanley.to_csv(r\"/Users/amos/Documents/DS4A/C1DataEngineering/morganstanley_stockdata.csv\",index=False,header=True)\n",
    "df_goldmansachs.to_csv(r\"/Users/amos/Documents/DS4A/C1DataEngineering/goldmansachs_stockdata.csv\",index=False,header=True)\n",
    "df_bofA.to_csv(r\"/Users/amos/Documents/DS4A/C1DataEngineering/bofa_stockdata.csv\",index=False,header=True)\n",
    "df_wellsfargo.to_csv(r\"/Users/amos/Documents/DS4A/C1DataEngineering/wellsfargo_stockdata.csv\",index=False,header=True)\n",
    "df_citigroup.to_csv(r\"/Users/amos/Documents/DS4A/C1DataEngineering/citigroup_stockdata.csv\",index=False,header=True)\n",
    "df_tdbank.to_csv(r\"/Users/amos/Documents/DS4A/C1DataEngineering/tdbank_stockdata.csv\",index=False,header=True)"
   ]
  },
  {
   "cell_type": "code",
   "execution_count": 14,
   "id": "e4d8599b",
   "metadata": {},
   "outputs": [
    {
     "data": {
      "text/plain": [
       "['morganstanley_stockdata.csv',\n",
       " 'citigroup_stockdata.csv',\n",
       " 'jpmorgan_stockdata.csv',\n",
       " 'goldmansachs_stockdata.csv',\n",
       " 'wellsfargo_stockdata.csv',\n",
       " 'tdbank_stockdata.csv',\n",
       " 'bofa_stockdata.csv']"
      ]
     },
     "execution_count": 14,
     "metadata": {},
     "output_type": "execute_result"
    }
   ],
   "source": [
    "import glob\n",
    " \n",
    "# list all csv files only\n",
    "csv_files = glob.glob('*.{}'.format('csv'))\n",
    "csv_files"
   ]
  },
  {
   "cell_type": "code",
   "execution_count": 15,
   "id": "80974120",
   "metadata": {},
   "outputs": [
    {
     "name": "stderr",
     "output_type": "stream",
     "text": [
      "/var/folders/2h/hw5lnr7d5qz7xgd11m6xrsh00000gn/T/ipykernel_70682/3314078828.py:6: FutureWarning: The frame.append method is deprecated and will be removed from pandas in a future version. Use pandas.concat instead.\n",
      "  df_csv_append = df_csv_append.append(df, ignore_index=True)\n",
      "/var/folders/2h/hw5lnr7d5qz7xgd11m6xrsh00000gn/T/ipykernel_70682/3314078828.py:6: FutureWarning: The frame.append method is deprecated and will be removed from pandas in a future version. Use pandas.concat instead.\n",
      "  df_csv_append = df_csv_append.append(df, ignore_index=True)\n",
      "/var/folders/2h/hw5lnr7d5qz7xgd11m6xrsh00000gn/T/ipykernel_70682/3314078828.py:6: FutureWarning: The frame.append method is deprecated and will be removed from pandas in a future version. Use pandas.concat instead.\n",
      "  df_csv_append = df_csv_append.append(df, ignore_index=True)\n",
      "/var/folders/2h/hw5lnr7d5qz7xgd11m6xrsh00000gn/T/ipykernel_70682/3314078828.py:6: FutureWarning: The frame.append method is deprecated and will be removed from pandas in a future version. Use pandas.concat instead.\n",
      "  df_csv_append = df_csv_append.append(df, ignore_index=True)\n",
      "/var/folders/2h/hw5lnr7d5qz7xgd11m6xrsh00000gn/T/ipykernel_70682/3314078828.py:6: FutureWarning: The frame.append method is deprecated and will be removed from pandas in a future version. Use pandas.concat instead.\n",
      "  df_csv_append = df_csv_append.append(df, ignore_index=True)\n",
      "/var/folders/2h/hw5lnr7d5qz7xgd11m6xrsh00000gn/T/ipykernel_70682/3314078828.py:6: FutureWarning: The frame.append method is deprecated and will be removed from pandas in a future version. Use pandas.concat instead.\n",
      "  df_csv_append = df_csv_append.append(df, ignore_index=True)\n",
      "/var/folders/2h/hw5lnr7d5qz7xgd11m6xrsh00000gn/T/ipykernel_70682/3314078828.py:6: FutureWarning: The frame.append method is deprecated and will be removed from pandas in a future version. Use pandas.concat instead.\n",
      "  df_csv_append = df_csv_append.append(df, ignore_index=True)\n"
     ]
    },
    {
     "data": {
      "text/html": [
       "<div>\n",
       "<style scoped>\n",
       "    .dataframe tbody tr th:only-of-type {\n",
       "        vertical-align: middle;\n",
       "    }\n",
       "\n",
       "    .dataframe tbody tr th {\n",
       "        vertical-align: top;\n",
       "    }\n",
       "\n",
       "    .dataframe thead th {\n",
       "        text-align: right;\n",
       "    }\n",
       "</style>\n",
       "<table border=\"1\" class=\"dataframe\">\n",
       "  <thead>\n",
       "    <tr style=\"text-align: right;\">\n",
       "      <th></th>\n",
       "      <th>Open</th>\n",
       "      <th>High</th>\n",
       "      <th>Low</th>\n",
       "      <th>Close</th>\n",
       "      <th>Volume</th>\n",
       "    </tr>\n",
       "  </thead>\n",
       "  <tbody>\n",
       "    <tr>\n",
       "      <th>0</th>\n",
       "      <td>105.50</td>\n",
       "      <td>109.97</td>\n",
       "      <td>103.53</td>\n",
       "      <td>109.92</td>\n",
       "      <td>27355400</td>\n",
       "    </tr>\n",
       "    <tr>\n",
       "      <th>1</th>\n",
       "      <td>109.42</td>\n",
       "      <td>111.21</td>\n",
       "      <td>105.14</td>\n",
       "      <td>105.80</td>\n",
       "      <td>32547700</td>\n",
       "    </tr>\n",
       "    <tr>\n",
       "      <th>2</th>\n",
       "      <td>107.03</td>\n",
       "      <td>108.72</td>\n",
       "      <td>103.75</td>\n",
       "      <td>108.41</td>\n",
       "      <td>25795900</td>\n",
       "    </tr>\n",
       "    <tr>\n",
       "      <th>3</th>\n",
       "      <td>104.63</td>\n",
       "      <td>105.32</td>\n",
       "      <td>101.83</td>\n",
       "      <td>103.09</td>\n",
       "      <td>25025600</td>\n",
       "    </tr>\n",
       "    <tr>\n",
       "      <th>4</th>\n",
       "      <td>96.12</td>\n",
       "      <td>99.79</td>\n",
       "      <td>95.00</td>\n",
       "      <td>97.76</td>\n",
       "      <td>38159400</td>\n",
       "    </tr>\n",
       "    <tr>\n",
       "      <th>...</th>\n",
       "      <td>...</td>\n",
       "      <td>...</td>\n",
       "      <td>...</td>\n",
       "      <td>...</td>\n",
       "      <td>...</td>\n",
       "    </tr>\n",
       "    <tr>\n",
       "      <th>1479</th>\n",
       "      <td>114.36</td>\n",
       "      <td>117.84</td>\n",
       "      <td>113.96</td>\n",
       "      <td>116.49</td>\n",
       "      <td>14973200</td>\n",
       "    </tr>\n",
       "    <tr>\n",
       "      <th>1480</th>\n",
       "      <td>116.51</td>\n",
       "      <td>116.94</td>\n",
       "      <td>115.09</td>\n",
       "      <td>115.98</td>\n",
       "      <td>4164900</td>\n",
       "    </tr>\n",
       "    <tr>\n",
       "      <th>1481</th>\n",
       "      <td>117.19</td>\n",
       "      <td>117.96</td>\n",
       "      <td>116.23</td>\n",
       "      <td>116.74</td>\n",
       "      <td>8072600</td>\n",
       "    </tr>\n",
       "    <tr>\n",
       "      <th>1482</th>\n",
       "      <td>117.54</td>\n",
       "      <td>117.62</td>\n",
       "      <td>116.32</td>\n",
       "      <td>116.44</td>\n",
       "      <td>8389200</td>\n",
       "    </tr>\n",
       "    <tr>\n",
       "      <th>1483</th>\n",
       "      <td>116.88</td>\n",
       "      <td>117.22</td>\n",
       "      <td>116.33</td>\n",
       "      <td>116.76</td>\n",
       "      <td>7398000</td>\n",
       "    </tr>\n",
       "  </tbody>\n",
       "</table>\n",
       "<p>1484 rows × 5 columns</p>\n",
       "</div>"
      ],
      "text/plain": [
       "        Open    High     Low   Close    Volume\n",
       "0     105.50  109.97  103.53  109.92  27355400\n",
       "1     109.42  111.21  105.14  105.80  32547700\n",
       "2     107.03  108.72  103.75  108.41  25795900\n",
       "3     104.63  105.32  101.83  103.09  25025600\n",
       "4      96.12   99.79   95.00   97.76  38159400\n",
       "...      ...     ...     ...     ...       ...\n",
       "1479  114.36  117.84  113.96  116.49  14973200\n",
       "1480  116.51  116.94  115.09  115.98   4164900\n",
       "1481  117.19  117.96  116.23  116.74   8072600\n",
       "1482  117.54  117.62  116.32  116.44   8389200\n",
       "1483  116.88  117.22  116.33  116.76   7398000\n",
       "\n",
       "[1484 rows x 5 columns]"
      ]
     },
     "execution_count": 15,
     "metadata": {},
     "output_type": "execute_result"
    }
   ],
   "source": [
    "df_csv_append = pd.DataFrame()\n",
    " \n",
    "# append all csv files \n",
    "for file in csv_files:\n",
    "    df = pd.read_csv(file)\n",
    "    df_csv_append = df_csv_append.append(df, ignore_index=True)\n",
    " \n",
    "df_csv_append"
   ]
  },
  {
   "cell_type": "code",
   "execution_count": null,
   "id": "cb2f8b91",
   "metadata": {},
   "outputs": [],
   "source": []
  }
 ],
 "metadata": {
  "kernelspec": {
   "display_name": "Python 3.11.0 ('ML')",
   "language": "python",
   "name": "python3110jvsc74a57bd0e35c5856cff72d20e6e0e19445c0d45b03888a7b19367444be448131dd51e693"
  },
  "language_info": {
   "codemirror_mode": {
    "name": "ipython",
    "version": 3
   },
   "file_extension": ".py",
   "mimetype": "text/x-python",
   "name": "python",
   "nbconvert_exporter": "python",
   "pygments_lexer": "ipython3",
   "version": "3.10.8"
  }
 },
 "nbformat": 4,
 "nbformat_minor": 5
}
